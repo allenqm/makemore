{
 "cells": [
  {
   "cell_type": "code",
   "execution_count": 1,
   "id": "f38550eb-8e06-4e45-9674-10896aba03e5",
   "metadata": {},
   "outputs": [],
   "source": [
    "import makemore as mm"
   ]
  },
  {
   "cell_type": "code",
   "execution_count": 2,
   "id": "6294a20c-7305-4d02-865d-7264b2f16e2a",
   "metadata": {},
   "outputs": [],
   "source": [
    "import torch"
   ]
  },
  {
   "cell_type": "code",
   "execution_count": 33,
   "id": "c67cabf9-f8f8-44a1-a00f-11b08bc90e3a",
   "metadata": {},
   "outputs": [],
   "source": [
    "import os\n",
    "import sys\n",
    "import time\n",
    "import math\n",
    "import argparse\n",
    "from dataclasses import dataclass\n",
    "from typing import List\n",
    "import matplotlib.pyplot as plt"
   ]
  },
  {
   "cell_type": "code",
   "execution_count": 38,
   "id": "a5ff3e21-4c9e-4921-a2e3-3332ae079ea0",
   "metadata": {},
   "outputs": [],
   "source": [
    "import torch.nn as nn\n",
    "from torch.nn import functional as F"
   ]
  },
  {
   "cell_type": "code",
   "execution_count": 4,
   "id": "ece33106-63b9-4bc0-b8e2-bcd284a5d19d",
   "metadata": {},
   "outputs": [
    {
     "data": {
      "text/plain": [
       "True"
      ]
     },
     "execution_count": 4,
     "metadata": {},
     "output_type": "execute_result"
    }
   ],
   "source": [
    "torch.cuda.is_available()"
   ]
  },
  {
   "cell_type": "code",
   "execution_count": 5,
   "id": "6d910827-07ab-4e5d-94a5-41531c3ebea2",
   "metadata": {},
   "outputs": [
    {
     "data": {
      "text/plain": [
       "'NVIDIA RTX A6000'"
      ]
     },
     "execution_count": 5,
     "metadata": {},
     "output_type": "execute_result"
    }
   ],
   "source": [
    "torch.cuda.get_device_name(0)"
   ]
  },
  {
   "cell_type": "code",
   "execution_count": 6,
   "id": "1ae87349-e270-46be-b2ce-ea2ff9bfd2ed",
   "metadata": {},
   "outputs": [],
   "source": [
    "#args\n",
    "seed = 101010\n",
    "work_dir = '/home/ubuntu/models' #run `mkdir models` first\n",
    "input_file = 'names.txt'\n",
    "\n",
    "#Model Args\n",
    "n_layer=4\n",
    "n_embd=64\n",
    "n_embd2=64\n",
    "n_head=64\n",
    "device='cuda:0'\n",
    "\n",
    "#Trainer Args\n",
    "learning_rate=3e-4\n",
    "weight_decay=1e-2\n",
    "batch_size = 10\n",
    "num_workers = 2\n",
    "max_steps = 100"
   ]
  },
  {
   "cell_type": "code",
   "execution_count": 7,
   "id": "84fbcbb8-5944-4033-9335-924dd86082c0",
   "metadata": {},
   "outputs": [
    {
     "name": "stderr",
     "output_type": "stream",
     "text": [
      "/home/ubuntu/.local/lib/python3.8/site-packages/pandas/core/computation/expressions.py:20: UserWarning: Pandas requires version '2.7.3' or newer of 'numexpr' (version '2.7.1' currently installed).\n",
      "  from pandas.core.computation.check import NUMEXPR_INSTALLED\n"
     ]
    }
   ],
   "source": [
    "# system inits\n",
    "torch.manual_seed(seed)\n",
    "torch.cuda.manual_seed_all(seed)\n",
    "os.makedirs(work_dir, exist_ok=True)\n",
    "writer = mm.SummaryWriter(log_dir=work_dir)"
   ]
  },
  {
   "cell_type": "code",
   "execution_count": 8,
   "id": "a31d34c8-810d-4525-a36c-5e19634d128d",
   "metadata": {},
   "outputs": [
    {
     "data": {
      "text/plain": [
       "'/home/ubuntu/makemore'"
      ]
     },
     "execution_count": 8,
     "metadata": {},
     "output_type": "execute_result"
    }
   ],
   "source": [
    "os.getcwd()"
   ]
  },
  {
   "cell_type": "code",
   "execution_count": 9,
   "id": "df636d68-cd53-4c23-972c-124bf03b13df",
   "metadata": {},
   "outputs": [
    {
     "name": "stdout",
     "output_type": "stream",
     "text": [
      "number of examples in the dataset: 32033\n",
      "max word length: 15\n",
      "number of unique characters in the vocabulary: 26\n",
      "vocabulary:\n",
      "abcdefghijklmnopqrstuvwxyz\n",
      "split up the dataset into 31033 training examples and 1000 test examples\n",
      "dataset determined that: vocab_size=27, block_size=16\n"
     ]
    }
   ],
   "source": [
    "# init datasets\n",
    "train_dataset, test_dataset = mm.create_datasets(input_file)\n",
    "vocab_size = train_dataset.get_vocab_size()\n",
    "block_size = train_dataset.get_output_length()\n",
    "print(f\"dataset determined that: {vocab_size=}, {block_size=}\")"
   ]
  },
  {
   "cell_type": "code",
   "execution_count": 11,
   "id": "93b8cc43-2773-4448-b270-1c15ff3da5b3",
   "metadata": {},
   "outputs": [
    {
     "name": "stdout",
     "output_type": "stream",
     "text": [
      "number of parameters: 0.20M\n"
     ]
    }
   ],
   "source": [
    "# init model\n",
    "config = mm.ModelConfig(vocab_size=vocab_size, block_size=block_size,\n",
    "                   n_layer=n_layer, n_head=n_head,\n",
    "                   n_embd=n_embd, n_embd2=n_embd2)\n",
    "model = mm.Transformer(config)\n",
    "model.to(device)\n",
    "print(f\"model #params: {sum(p.numel() for p in model.parameters())}\")\n",
    "# if args.resume or args.sample_only: # note: if we sample-only then we also assume we are resuming\n",
    "#     print(\"resuming from existing model in the workdir\")\n",
    "#     model.load_state_dict(torch.load(os.path.join(args.work_dir, 'model.pt')))\n",
    "# if args.sample_only:\n",
    "#     print_samples(num=50)\n",
    "#     sys.exit()\n",
    "\n",
    "# init optimizer\n",
    "optimizer = torch.optim.AdamW(\n",
    "    model.parameters(), \n",
    "    lr=learning_rate, \n",
    "    weight_decay=weight_decay,\n",
    "    betas=(0.9, 0.99), \n",
    "    eps=1e-8\n",
    ")\n",
    "# init dataloader\n",
    "batch_loader = mm.InfiniteDataLoader(\n",
    "    train_dataset, \n",
    "    batch_size=batch_size, \n",
    "    pin_memory=True, \n",
    "    num_workers=num_workers\n",
    ")"
   ]
  },
  {
   "cell_type": "code",
   "execution_count": 15,
   "id": "25551a62-9c09-4b75-ad82-6d6df40896bc",
   "metadata": {},
   "outputs": [
    {
     "name": "stdout",
     "output_type": "stream",
     "text": [
      "step 0 | loss 3.4336 | step time 803.14ms\n",
      "step 10 | loss 3.0155 | step time 19.60ms\n",
      "step 20 | loss 2.9193 | step time 18.95ms\n",
      "step 30 | loss 2.6380 | step time 18.81ms\n",
      "step 40 | loss 2.6422 | step time 18.07ms\n",
      "step 50 | loss 2.6594 | step time 16.11ms\n",
      "step 60 | loss 2.7239 | step time 22.88ms\n",
      "step 70 | loss 2.6593 | step time 20.81ms\n",
      "step 80 | loss 2.5451 | step time 20.72ms\n",
      "step 90 | loss 2.4382 | step time 20.60ms\n"
     ]
    }
   ],
   "source": [
    "# training loop\n",
    "best_loss = None\n",
    "step = 0\n",
    "while True:\n",
    "\n",
    "    t0 = time.time()\n",
    "\n",
    "    # get the next batch, ship to device, and unpack it to input and target\n",
    "    batch = batch_loader.next()\n",
    "    batch = [t.to(device) for t in batch]\n",
    "    X, Y = batch\n",
    "\n",
    "    # feed into the model\n",
    "    logits, loss = model(X, Y)\n",
    "\n",
    "    # calculate the gradient, update the weights\n",
    "    model.zero_grad(set_to_none=True)\n",
    "    loss.backward()\n",
    "    optimizer.step()\n",
    "\n",
    "    # wait for all CUDA work on the GPU to finish then calculate iteration time taken\n",
    "    if device.startswith('cuda'):\n",
    "        torch.cuda.synchronize()\n",
    "    t1 = time.time()\n",
    "\n",
    "    # logging\n",
    "    if step % 10 == 0:\n",
    "        print(f\"step {step} | loss {loss.item():.4f} | step time {(t1-t0)*1000:.2f}ms\")\n",
    "\n",
    "    # evaluate the model\n",
    "    if step > 0 and step % 500 == 0:\n",
    "        train_loss = evaluate(model, train_dataset, batch_size=100, max_batches=10)\n",
    "        test_loss  = evaluate(model, test_dataset,  batch_size=100, max_batches=10)\n",
    "        writer.add_scalar(\"Loss/train\", train_loss, step)\n",
    "        writer.add_scalar(\"Loss/test\", test_loss, step)\n",
    "        writer.flush()\n",
    "        print(f\"step {step} train loss: {train_loss} test loss: {test_loss}\")\n",
    "        # save the model to disk if it has improved\n",
    "        if best_loss is None or test_loss < best_loss:\n",
    "            out_path = os.path.join(work_dir, \"model.pt\")\n",
    "            print(f\"test loss {test_loss} is the best so far, saving model to {out_path}\")\n",
    "            torch.save(model.state_dict(), out_path)\n",
    "            best_loss = test_loss\n",
    "\n",
    "    # sample from the model\n",
    "    if step > 0 and step % 200 == 0:\n",
    "        print_samples(num=10)\n",
    "\n",
    "    step += 1\n",
    "    # termination conditions\n",
    "    if max_steps >= 0 and step >= max_steps:\n",
    "        break"
   ]
  },
  {
   "cell_type": "code",
   "execution_count": 25,
   "id": "99a262e4-871f-434c-8961-4988d57bae31",
   "metadata": {},
   "outputs": [
    {
     "data": {
      "image/png": "[encoded data removed]",
      "text/plain": [
       "<Figure size 432x288 with 1 Axes>"
      ]
     },
     "metadata": {
      "needs_background": "light"
     },
     "output_type": "display_data"
    }
   ],
   "source": [
    "params = dict(model.named_parameters())\n",
    "a = params['lm_head.weight'].detach().to('cpu').numpy()\n",
    "imgplot = plt.imshow(a)\n",
    "plt.show()"
   ]
  },
  {
   "cell_type": "markdown",
   "id": "419d701b-2efc-4584-97b6-928481b86ab7",
   "metadata": {},
   "source": [
    "## Model Analysis"
   ]
  },
  {
   "cell_type": "markdown",
   "id": "d2316167-2d7a-4c99-b24a-443a17886052",
   "metadata": {},
   "source": [
    "### Peel 1 layer into Transformer"
   ]
  },
  {
   "cell_type": "code",
   "execution_count": 71,
   "id": "0880cf85-3bc8-4060-a69f-5e6b4808c911",
   "metadata": {},
   "outputs": [
    {
     "name": "stdout",
     "output_type": "stream",
     "text": [
      "number of parameters: 0.20M\n",
      "model #params: 204544\n"
     ]
    }
   ],
   "source": [
    "# init model\n",
    "config = mm.ModelConfig(vocab_size=vocab_size, block_size=block_size,\n",
    "                   n_layer=n_layer, n_head=n_head,\n",
    "                   n_embd=n_embd, n_embd2=n_embd2)\n",
    "model = mm.Transformer(config)\n",
    "model.to(device)\n",
    "print(f\"model #params: {sum(p.numel() for p in model.parameters())}\")\n",
    "# if args.resume or args.sample_only: # note: if we sample-only then we also assume we are resuming\n",
    "#     print(\"resuming from existing model in the workdir\")\n",
    "#     model.load_state_dict(torch.load(os.path.join(args.work_dir, 'model.pt')))\n",
    "# if args.sample_only:\n",
    "#     print_samples(num=50)\n",
    "#     sys.exit()\n",
    "\n",
    "# init optimizer\n",
    "optimizer = torch.optim.AdamW(\n",
    "    model.parameters(), \n",
    "    lr=learning_rate, \n",
    "    weight_decay=weight_decay,\n",
    "    betas=(0.9, 0.99), \n",
    "    eps=1e-8\n",
    ")\n",
    "# init dataloader\n",
    "batch_loader = mm.InfiniteDataLoader(\n",
    "    train_dataset, \n",
    "    batch_size=batch_size, \n",
    "    pin_memory=True, \n",
    "    num_workers=num_workers\n",
    ")"
   ]
  },
  {
   "cell_type": "code",
   "execution_count": 72,
   "id": "40266ea7-065f-4367-806a-dc7de76bbcbb",
   "metadata": {},
   "outputs": [
    {
     "name": "stdout",
     "output_type": "stream",
     "text": [
      "tensor(3.4725, device='cuda:0', grad_fn=<NllLossBackward0>)\n",
      "0\n",
      "tensor(2.4679, device='cuda:0', grad_fn=<NllLossBackward0>)\n",
      "100\n",
      "tensor(2.3647, device='cuda:0', grad_fn=<NllLossBackward0>)\n",
      "200\n",
      "tensor(2.3020, device='cuda:0', grad_fn=<NllLossBackward0>)\n",
      "300\n",
      "tensor(2.4096, device='cuda:0', grad_fn=<NllLossBackward0>)\n",
      "400\n",
      "tensor(2.2575, device='cuda:0', grad_fn=<NllLossBackward0>)\n",
      "500\n",
      "tensor(2.4116, device='cuda:0', grad_fn=<NllLossBackward0>)\n",
      "600\n",
      "tensor(2.2563, device='cuda:0', grad_fn=<NllLossBackward0>)\n",
      "700\n",
      "tensor(2.3391, device='cuda:0', grad_fn=<NllLossBackward0>)\n",
      "800\n",
      "tensor(2.1611, device='cuda:0', grad_fn=<NllLossBackward0>)\n",
      "900\n"
     ]
    }
   ],
   "source": [
    "# This could be run without for loop, step by step\n",
    "for i in range(1000):\n",
    "    # get the next batch, ship to device, and unpack it to input and target\n",
    "    batch = batch_loader.next()\n",
    "    batch = [t.to(device) for t in batch]\n",
    "    X, Y = batch\n",
    "\n",
    "    #---*----# feed into the model - this is the entrypoint to Transformer\n",
    "    idx = X\n",
    "    targets = Y\n",
    "\n",
    "    device = idx.device\n",
    "    b, t = idx.size()\n",
    "    assert t <= model.block_size, f\"Cannot forward sequence of length {t}, block size is only {model.block_size}\"\n",
    "    pos = torch.arange(0, t, dtype=torch.long, device=device).unsqueeze(0) # shape (1, t)\n",
    "\n",
    "    # forward the GPT model itmodel\n",
    "    tok_emb = model.transformer.wte(idx) # token embeddings of shape (b, t, n_embd)\n",
    "    pos_emb = model.transformer.wpe(pos) # position embeddings of shape (1, t, n_embd)\n",
    "    x = tok_emb + pos_emb\n",
    "    for block in model.transformer.h:\n",
    "        x = block(x)\n",
    "    x = model.transformer.ln_f(x)\n",
    "    logits = model.lm_head(x)\n",
    "\n",
    "    # if we are given some desired targets also calculate the loss\n",
    "    loss = None\n",
    "    if targets is not None:\n",
    "        loss = F.cross_entropy(logits.view(-1, logits.size(-1)), targets.view(-1), ignore_index=-1)\n",
    "    #---*----# feed into the model - the exitpoint is producing logits, loss\n",
    "        \n",
    "    # calculate the gradient, update the weights\n",
    "    model.zero_grad(set_to_none=True)\n",
    "    loss.backward()\n",
    "    optimizer.step()\n",
    "\n",
    "    if i%100==0:\n",
    "        print(loss)\n",
    "        print(i)"
   ]
  },
  {
   "cell_type": "code",
   "execution_count": 73,
   "id": "bf883a41-0994-436c-89fd-c0266f8c1fc8",
   "metadata": {},
   "outputs": [],
   "source": [
    "# wait for all CUDA work on the GPU to finish then calculate iteration time taken\n",
    "if device.type.startswith('cuda'):\n",
    "    torch.cuda.synchronize()"
   ]
  },
  {
   "cell_type": "code",
   "execution_count": 74,
   "id": "64e2848a-f550-468f-b8c6-690533edbf76",
   "metadata": {},
   "outputs": [
    {
     "data": {
      "image/png": "[encoded data removed]",
      "text/plain": [
       "<Figure size 432x288 with 1 Axes>"
      ]
     },
     "metadata": {
      "needs_background": "light"
     },
     "output_type": "display_data"
    }
   ],
   "source": [
    "params = dict(model.named_parameters())\n",
    "a = params['lm_head.weight'].detach().to('cpu').numpy()\n",
    "imgplot = plt.imshow(a)\n",
    "plt.show()"
   ]
  },
  {
   "cell_type": "code",
   "execution_count": null,
   "id": "1e2f9fb2-dabc-478a-ae8c-4d2f1fe92c28",
   "metadata": {},
   "outputs": [],
   "source": []
  },
  {
   "cell_type": "markdown",
   "id": "70300d90-a1a8-4a78-8e4e-90d81d47417d",
   "metadata": {},
   "source": [
    "### Peel 2 layers into Transformer...block"
   ]
  },
  {
   "cell_type": "code",
   "execution_count": 78,
   "id": "4f0f1f67-cfdc-4e9d-8ff0-35b58f0501dc",
   "metadata": {},
   "outputs": [
    {
     "name": "stdout",
     "output_type": "stream",
     "text": [
      "number of parameters: 0.20M\n",
      "model #params: 204544\n"
     ]
    }
   ],
   "source": [
    "# init model\n",
    "config = mm.ModelConfig(vocab_size=vocab_size, block_size=block_size,\n",
    "                   n_layer=n_layer, n_head=n_head,\n",
    "                   n_embd=n_embd, n_embd2=n_embd2)\n",
    "model = mm.Transformer(config)\n",
    "model.to(device)\n",
    "print(f\"model #params: {sum(p.numel() for p in model.parameters())}\")\n",
    "# if args.resume or args.sample_only: # note: if we sample-only then we also assume we are resuming\n",
    "#     print(\"resuming from existing model in the workdir\")\n",
    "#     model.load_state_dict(torch.load(os.path.join(args.work_dir, 'model.pt')))\n",
    "# if args.sample_only:\n",
    "#     print_samples(num=50)\n",
    "#     sys.exit()\n",
    "\n",
    "# init optimizer\n",
    "optimizer = torch.optim.AdamW(\n",
    "    model.parameters(), \n",
    "    lr=learning_rate, \n",
    "    weight_decay=weight_decay,\n",
    "    betas=(0.9, 0.99), \n",
    "    eps=1e-8\n",
    ")\n",
    "# init dataloader\n",
    "batch_loader = mm.InfiniteDataLoader(\n",
    "    train_dataset, \n",
    "    batch_size=batch_size, \n",
    "    pin_memory=True, \n",
    "    num_workers=num_workers\n",
    ")"
   ]
  },
  {
   "cell_type": "code",
   "execution_count": 79,
   "id": "fc5400b6-8fcc-4ca0-8401-1d1f0c0a6258",
   "metadata": {},
   "outputs": [
    {
     "name": "stdout",
     "output_type": "stream",
     "text": [
      "tensor(3.3299, device='cuda:0', grad_fn=<NllLossBackward0>)\n",
      "0\n",
      "tensor(2.3034, device='cuda:0', grad_fn=<NllLossBackward0>)\n",
      "100\n",
      "tensor(2.3206, device='cuda:0', grad_fn=<NllLossBackward0>)\n",
      "200\n",
      "tensor(2.4974, device='cuda:0', grad_fn=<NllLossBackward0>)\n",
      "300\n",
      "tensor(2.3009, device='cuda:0', grad_fn=<NllLossBackward0>)\n",
      "400\n",
      "tensor(2.5012, device='cuda:0', grad_fn=<NllLossBackward0>)\n",
      "500\n",
      "tensor(2.2566, device='cuda:0', grad_fn=<NllLossBackward0>)\n",
      "600\n",
      "tensor(2.2890, device='cuda:0', grad_fn=<NllLossBackward0>)\n",
      "700\n",
      "tensor(2.1087, device='cuda:0', grad_fn=<NllLossBackward0>)\n",
      "800\n",
      "tensor(2.3717, device='cuda:0', grad_fn=<NllLossBackward0>)\n",
      "900\n"
     ]
    }
   ],
   "source": [
    "# This could be run without for loop, step by step\n",
    "for i in range(1000):\n",
    "    # get the next batch, ship to device, and unpack it to input and target\n",
    "    batch = batch_loader.next()\n",
    "    batch = [t.to(device) for t in batch]\n",
    "    X, Y = batch\n",
    "\n",
    "    #---*----# feed into the model - this is the entrypoint to Transformer\n",
    "    idx = X\n",
    "    targets = Y\n",
    "\n",
    "    device = idx.device\n",
    "    b, t = idx.size()\n",
    "    assert t <= model.block_size, f\"Cannot forward sequence of length {t}, block size is only {model.block_size}\"\n",
    "    pos = torch.arange(0, t, dtype=torch.long, device=device).unsqueeze(0) # shape (1, t)\n",
    "\n",
    "    # forward the GPT model itmodel\n",
    "    tok_emb = model.transformer.wte(idx) # token embeddings of shape (b, t, n_embd)\n",
    "    pos_emb = model.transformer.wpe(pos) # position embeddings of shape (1, t, n_embd)\n",
    "    x = tok_emb + pos_emb\n",
    "    for block in model.transformer.h:\n",
    "        x = x + block.attn(block.ln_1(x))\n",
    "        x = x + block.mlpf(block.ln_2(x))\n",
    "    x = model.transformer.ln_f(x)\n",
    "    logits = model.lm_head(x)\n",
    "\n",
    "    # if we are given some desired targets also calculate the loss\n",
    "    loss = None\n",
    "    if targets is not None:\n",
    "        loss = F.cross_entropy(logits.view(-1, logits.size(-1)), targets.view(-1), ignore_index=-1)\n",
    "    #---*----# feed into the model - the exitpoint is producing logits, loss\n",
    "        \n",
    "    # calculate the gradient, update the weights\n",
    "    model.zero_grad(set_to_none=True)\n",
    "    loss.backward()\n",
    "    optimizer.step()\n",
    "\n",
    "    if i%100==0:\n",
    "        print(loss)\n",
    "        print(i)"
   ]
  },
  {
   "cell_type": "code",
   "execution_count": 80,
   "id": "e5eade56-7da4-4161-87ff-59d70bf05af2",
   "metadata": {},
   "outputs": [],
   "source": [
    "# wait for all CUDA work on the GPU to finish then calculate iteration time taken\n",
    "if device.type.startswith('cuda'):\n",
    "    torch.cuda.synchronize()"
   ]
  },
  {
   "cell_type": "code",
   "execution_count": 81,
   "id": "7a26cca6-bb61-48a7-a3f9-fcbd5a6b5066",
   "metadata": {},
   "outputs": [
    {
     "data": {
      "image/png": "[encoded data removed]",
      "text/plain": [
       "<Figure size 432x288 with 1 Axes>"
      ]
     },
     "metadata": {
      "needs_background": "light"
     },
     "output_type": "display_data"
    }
   ],
   "source": [
    "params = dict(model.named_parameters())\n",
    "a = params['lm_head.weight'].detach().to('cpu').numpy()\n",
    "imgplot = plt.imshow(a)\n",
    "plt.show()"
   ]
  },
  {
   "cell_type": "code",
   "execution_count": null,
   "id": "bae50b05-279e-4285-84c3-599105bee9b2",
   "metadata": {},
   "outputs": [],
   "source": []
  },
  {
   "cell_type": "markdown",
   "id": "556e4811-0747-4b9d-a54d-7459225ba916",
   "metadata": {},
   "source": [
    "### Peel 3 layers into Transformer...block"
   ]
  },
  {
   "cell_type": "code",
   "execution_count": 99,
   "id": "41cf4eda-40f8-4fb9-93e5-9958377f4ed2",
   "metadata": {},
   "outputs": [
    {
     "name": "stdout",
     "output_type": "stream",
     "text": [
      "number of parameters: 0.20M\n",
      "model #params: 204544\n"
     ]
    }
   ],
   "source": [
    "torch.manual_seed(seed)\n",
    "torch.cuda.manual_seed_all(seed)\n",
    "\n",
    "# init model\n",
    "config = mm.ModelConfig(vocab_size=vocab_size, block_size=block_size,\n",
    "                   n_layer=n_layer, n_head=n_head,\n",
    "                   n_embd=n_embd, n_embd2=n_embd2)\n",
    "model = mm.Transformer(config)\n",
    "model.to(device)\n",
    "print(f\"model #params: {sum(p.numel() for p in model.parameters())}\")\n",
    "# if args.resume or args.sample_only: # note: if we sample-only then we also assume we are resuming\n",
    "#     print(\"resuming from existing model in the workdir\")\n",
    "#     model.load_state_dict(torch.load(os.path.join(args.work_dir, 'model.pt')))\n",
    "# if args.sample_only:\n",
    "#     print_samples(num=50)\n",
    "#     sys.exit()\n",
    "\n",
    "# init optimizer\n",
    "optimizer = torch.optim.AdamW(\n",
    "    model.parameters(), \n",
    "    lr=learning_rate, \n",
    "    weight_decay=weight_decay,\n",
    "    betas=(0.9, 0.99), \n",
    "    eps=1e-8\n",
    ")\n",
    "# init dataloader\n",
    "batch_loader = mm.InfiniteDataLoader(\n",
    "    train_dataset, \n",
    "    batch_size=batch_size, \n",
    "    pin_memory=True, \n",
    "    num_workers=num_workers\n",
    ")"
   ]
  },
  {
   "cell_type": "code",
   "execution_count": 100,
   "id": "3bfee8c1-c39c-41a5-84c3-c227145cef46",
   "metadata": {},
   "outputs": [
    {
     "name": "stdout",
     "output_type": "stream",
     "text": [
      "tensor(3.4626, device='cuda:0', grad_fn=<NllLossBackward0>)\n",
      "0\n",
      "tensor(2.4464, device='cuda:0', grad_fn=<NllLossBackward0>)\n",
      "100\n",
      "tensor(2.3241, device='cuda:0', grad_fn=<NllLossBackward0>)\n",
      "200\n",
      "tensor(2.4042, device='cuda:0', grad_fn=<NllLossBackward0>)\n",
      "300\n",
      "tensor(2.5085, device='cuda:0', grad_fn=<NllLossBackward0>)\n",
      "400\n",
      "tensor(2.1440, device='cuda:0', grad_fn=<NllLossBackward0>)\n",
      "500\n",
      "tensor(2.2406, device='cuda:0', grad_fn=<NllLossBackward0>)\n",
      "600\n",
      "tensor(2.1675, device='cuda:0', grad_fn=<NllLossBackward0>)\n",
      "700\n",
      "tensor(2.3986, device='cuda:0', grad_fn=<NllLossBackward0>)\n",
      "800\n",
      "tensor(2.5864, device='cuda:0', grad_fn=<NllLossBackward0>)\n",
      "900\n"
     ]
    }
   ],
   "source": [
    "# This could be run without for loop, step by step\n",
    "\n",
    "for i in range(1000):\n",
    "    # get the next batch, ship to device, and unpack it to input and target\n",
    "    batch = batch_loader.next()\n",
    "    batch = [t.to(device) for t in batch]\n",
    "    X, Y = batch\n",
    "\n",
    "    #---*----# feed into the model - this is the entrypoint to Transformer\n",
    "    idx = X\n",
    "    targets = Y\n",
    "\n",
    "    device = idx.device\n",
    "    b, t = idx.size()\n",
    "    assert t <= model.block_size, f\"Cannot forward sequence of length {t}, block size is only {model.block_size}\"\n",
    "    pos = torch.arange(0, t, dtype=torch.long, device=device).unsqueeze(0) # shape (1, t)\n",
    "\n",
    "    # forward the GPT model itmodel\n",
    "    tok_emb = model.transformer.wte(idx) # token embeddings of shape (b, t, n_embd)\n",
    "    pos_emb = model.transformer.wpe(pos) # position embeddings of shape (1, t, n_embd)\n",
    "    x = tok_emb + pos_emb\n",
    "    for block in model.transformer.h:\n",
    "        # attention\n",
    "        layer_normed1 = block.ln_1(x)\n",
    "        attn = block.attn(layer_normed1)\n",
    "        x = x + attn #residual connection\n",
    "        # mlpf\n",
    "        layer_normed2 = block.ln_2(x)\n",
    "        fully_connected = block.mlp.c_fc(layer_normed2)\n",
    "        activated = block.mlp.act(fully_connected)\n",
    "        projected = block.mlp.c_proj(activated)\n",
    "        # mlpf = block.mlp.c_proj(block.mlp.act(block.mlp.c_fc((block.ln_2(x)))))\n",
    "        x = x + projected #residual connection\n",
    "    x = model.transformer.ln_f(x)\n",
    "    logits = model.lm_head(x)\n",
    "\n",
    "    # if we are given some desired targets also calculate the loss\n",
    "    loss = None\n",
    "    if targets is not None:\n",
    "        loss = F.cross_entropy(logits.view(-1, logits.size(-1)), targets.view(-1), ignore_index=-1)\n",
    "    #---*----# feed into the model - the exitpoint is producing logits, loss\n",
    "        \n",
    "    # calculate the gradient, update the weights\n",
    "    model.zero_grad(set_to_none=True)\n",
    "    loss.backward()\n",
    "    optimizer.step()\n",
    "\n",
    "    if i%100==0:\n",
    "        print(loss)\n",
    "        print(i)"
   ]
  },
  {
   "cell_type": "code",
   "execution_count": 80,
   "id": "9455b47f-e86e-4d4c-9f13-c28e678c4f7b",
   "metadata": {},
   "outputs": [],
   "source": [
    "# wait for all CUDA work on the GPU to finish then calculate iteration time taken\n",
    "if device.type.startswith('cuda'):\n",
    "    torch.cuda.synchronize()"
   ]
  },
  {
   "cell_type": "code",
   "execution_count": 81,
   "id": "07f1cb9f-196f-4579-9b66-4e9b7e839fb8",
   "metadata": {},
   "outputs": [
    {
     "data": {
      "image/png": "[encoded data removed]",
      "text/plain": [
       "<Figure size 432x288 with 1 Axes>"
      ]
     },
     "metadata": {
      "needs_background": "light"
     },
     "output_type": "display_data"
    }
   ],
   "source": [
    "params = dict(model.named_parameters())\n",
    "a = params['lm_head.weight'].detach().to('cpu').numpy()\n",
    "imgplot = plt.imshow(a)\n",
    "plt.show()"
   ]
  },
  {
   "cell_type": "code",
   "execution_count": null,
   "id": "14ab6dd8-ce63-43d4-a8f6-c9e22317e7cf",
   "metadata": {},
   "outputs": [],
   "source": []
  },
  {
   "cell_type": "code",
   "execution_count": null,
   "id": "57e227a4-ed01-488e-a446-42594209b695",
   "metadata": {},
   "outputs": [],
   "source": []
  },
  {
   "cell_type": "markdown",
   "id": "5924e0de-89c6-47c1-b2fd-0b5446e007c8",
   "metadata": {},
   "source": [
    "### Peel 4 layers into Transformer...block"
   ]
  },
  {
   "cell_type": "code",
   "execution_count": 101,
   "id": "e8008b65-d171-4fa8-a1aa-44e3bf6061e3",
   "metadata": {},
   "outputs": [
    {
     "name": "stdout",
     "output_type": "stream",
     "text": [
      "number of parameters: 0.20M\n",
      "model #params: 204544\n"
     ]
    }
   ],
   "source": [
    "torch.manual_seed(seed)\n",
    "torch.cuda.manual_seed_all(seed)\n",
    "\n",
    "# init model\n",
    "config = mm.ModelConfig(vocab_size=vocab_size, block_size=block_size,\n",
    "                   n_layer=n_layer, n_head=n_head,\n",
    "                   n_embd=n_embd, n_embd2=n_embd2)\n",
    "model = mm.Transformer(config)\n",
    "model.to(device)\n",
    "print(f\"model #params: {sum(p.numel() for p in model.parameters())}\")\n",
    "# if args.resume or args.sample_only: # note: if we sample-only then we also assume we are resuming\n",
    "#     print(\"resuming from existing model in the workdir\")\n",
    "#     model.load_state_dict(torch.load(os.path.join(args.work_dir, 'model.pt')))\n",
    "# if args.sample_only:\n",
    "#     print_samples(num=50)\n",
    "#     sys.exit()\n",
    "\n",
    "# init optimizer\n",
    "optimizer = torch.optim.AdamW(\n",
    "    model.parameters(), \n",
    "    lr=learning_rate, \n",
    "    weight_decay=weight_decay,\n",
    "    betas=(0.9, 0.99), \n",
    "    eps=1e-8\n",
    ")\n",
    "# init dataloader\n",
    "batch_loader = mm.InfiniteDataLoader(\n",
    "    train_dataset, \n",
    "    batch_size=batch_size, \n",
    "    pin_memory=True, \n",
    "    num_workers=num_workers\n",
    ")"
   ]
  },
  {
   "cell_type": "code",
   "execution_count": 102,
   "id": "5dfe5297-6c4a-47c9-87fa-1f6b4cebed2b",
   "metadata": {},
   "outputs": [
    {
     "name": "stdout",
     "output_type": "stream",
     "text": [
      "tensor(3.4339, device='cuda:0', grad_fn=<NllLossBackward0>)\n",
      "0\n",
      "tensor(2.4484, device='cuda:0', grad_fn=<NllLossBackward0>)\n",
      "100\n",
      "tensor(2.3278, device='cuda:0', grad_fn=<NllLossBackward0>)\n",
      "200\n",
      "tensor(2.3863, device='cuda:0', grad_fn=<NllLossBackward0>)\n",
      "300\n",
      "tensor(2.5157, device='cuda:0', grad_fn=<NllLossBackward0>)\n",
      "400\n",
      "tensor(2.1427, device='cuda:0', grad_fn=<NllLossBackward0>)\n",
      "500\n",
      "tensor(2.2240, device='cuda:0', grad_fn=<NllLossBackward0>)\n",
      "600\n",
      "tensor(2.1723, device='cuda:0', grad_fn=<NllLossBackward0>)\n",
      "700\n",
      "tensor(2.3887, device='cuda:0', grad_fn=<NllLossBackward0>)\n",
      "800\n",
      "tensor(2.5691, device='cuda:0', grad_fn=<NllLossBackward0>)\n",
      "900\n"
     ]
    }
   ],
   "source": [
    "# This could be run without for loop, step by step\n",
    "\n",
    "for i in range(1000):\n",
    "    # get the next batch, ship to device, and unpack it to input and target\n",
    "    batch = batch_loader.next()\n",
    "    batch = [t.to(device) for t in batch]\n",
    "    X, Y = batch\n",
    "\n",
    "    #---*----# feed into the model - this is the entrypoint to Transformer\n",
    "    idx = X\n",
    "    targets = Y\n",
    "\n",
    "    device = idx.device\n",
    "    b, t = idx.size()\n",
    "    assert t <= model.block_size, f\"Cannot forward sequence of length {t}, block size is only {model.block_size}\"\n",
    "    pos = torch.arange(0, t, dtype=torch.long, device=device).unsqueeze(0) # shape (1, t)\n",
    "\n",
    "    # forward the GPT model itmodel\n",
    "    tok_emb = model.transformer.wte(idx) # token embeddings of shape (b, t, n_embd)\n",
    "    pos_emb = model.transformer.wpe(pos) # position embeddings of shape (1, t, n_embd)\n",
    "    x = tok_emb + pos_emb\n",
    "    for block in model.transformer.h:\n",
    "        # attention\n",
    "        layer_normed1 = block.ln_1(x)\n",
    "        B, T, C = layer_normed1.size()\n",
    "        \n",
    "        # calculate query, key, values for all heads in batch and move head forward to be the batch dim\n",
    "        q, k ,v  = block.attn.c_attn(x).split(block.attn.n_embd, dim=2)        \n",
    "        k = k.view(B, T, block.attn.n_head, C // block.attn.n_head).transpose(1, 2) # (B, nh, T, hs)\n",
    "        q = q.view(B, T, block.attn.n_head, C // block.attn.n_head).transpose(1, 2) # (B, nh, T, hs)\n",
    "        v = v.view(B, T, block.attn.n_head, C // block.attn.n_head).transpose(1, 2) # (B, nh, T, hs)        \n",
    "        \n",
    "        # causal self-attention; Self-attend: (B, nh, T, hs) x (B, nh, hs, T) -> (B, nh, T, T)\n",
    "        att = (q @ k.transpose(-2, -1)) * (1.0 / math.sqrt(k.size(-1)))\n",
    "        att = att.masked_fill(block.attn.bias[:,:,:T,:T] == 0, float('-inf'))\n",
    "        att = F.softmax(att, dim=-1)\n",
    "        y = att @ v # (B, nh, T, T) x (B, nh, T, hs) -> (B, nh, T, hs)\n",
    "        y = y.transpose(1, 2).contiguous().view(B, T, C) # re-assemble all head outputs side by side\n",
    "        \n",
    "        # output projection\n",
    "        y = block.attn.c_proj(y)        \n",
    "        \n",
    "        x = x + y #residual connection\n",
    "        # mlpf\n",
    "        layer_normed2 = block.ln_2(x)\n",
    "        fully_connected = block.mlp.c_fc(layer_normed2)\n",
    "        activated = block.mlp.act(fully_connected)\n",
    "        projected = block.mlp.c_proj(activated)\n",
    "        # mlpf = block.mlp.c_proj(block.mlp.act(block.mlp.c_fc((block.ln_2(x)))))\n",
    "        x = x + projected #residual connection\n",
    "    x = model.transformer.ln_f(x)\n",
    "    logits = model.lm_head(x)\n",
    "\n",
    "    # if we are given some desired targets also calculate the loss\n",
    "    loss = None\n",
    "    if targets is not None:\n",
    "        loss = F.cross_entropy(logits.view(-1, logits.size(-1)), targets.view(-1), ignore_index=-1)\n",
    "    #---*----# feed into the model - the exitpoint is producing logits, loss\n",
    "        \n",
    "    # calculate the gradient, update the weights\n",
    "    model.zero_grad(set_to_none=True)\n",
    "    loss.backward()\n",
    "    optimizer.step()\n",
    "\n",
    "    if i%100==0:\n",
    "        print(loss)\n",
    "        print(i)"
   ]
  },
  {
   "cell_type": "code",
   "execution_count": 80,
   "id": "4fc4891b-3ffd-4448-af2e-ecc2c6b64fa1",
   "metadata": {},
   "outputs": [],
   "source": [
    "# wait for all CUDA work on the GPU to finish then calculate iteration time taken\n",
    "if device.type.startswith('cuda'):\n",
    "    torch.cuda.synchronize()"
   ]
  },
  {
   "cell_type": "code",
   "execution_count": 81,
   "id": "8a530434-8404-492f-8b11-3cf6ee447c39",
   "metadata": {},
   "outputs": [
    {
     "data": {
      "image/png": "[encoded data removed]",
      "text/plain": [
       "<Figure size 432x288 with 1 Axes>"
      ]
     },
     "metadata": {
      "needs_background": "light"
     },
     "output_type": "display_data"
    }
   ],
   "source": [
    "params = dict(model.named_parameters())\n",
    "a = params['lm_head.weight'].detach().to('cpu').numpy()\n",
    "imgplot = plt.imshow(a)\n",
    "plt.show()"
   ]
  },
  {
   "cell_type": "code",
   "execution_count": null,
   "id": "a205c9ea-e08b-47ec-800d-6fbef8f18f93",
   "metadata": {},
   "outputs": [],
   "source": []
  },
  {
   "cell_type": "markdown",
   "id": "b48f2e0d-3389-4093-866b-2fc192f835d4",
   "metadata": {},
   "source": [
    "### Questions"
   ]
  },
  {
   "cell_type": "markdown",
   "id": "e386d58f-4f0c-4a9d-b79c-91cc6a6cf33a",
   "metadata": {},
   "source": [
    "1. how does the shape of the tensors change at each step?\n",
    "2. how are the elements of tensors changing at each step?\n",
    "\n",
    "    a. what did they represent before the step\n",
    "    \n",
    "    b. what do they represent after?\n",
    "3. what is an 'intuitive' description of the transformation at each step"
   ]
  },
  {
   "cell_type": "markdown",
   "id": "f748933e-5497-4c62-8587-710d78b8e543",
   "metadata": {},
   "source": [
    "To answer these questions, we're going to operate on just one block and remove For loops"
   ]
  },
  {
   "cell_type": "code",
   "execution_count": 103,
   "id": "26aef195-1413-401c-89c4-5d1b17e7aeda",
   "metadata": {},
   "outputs": [
    {
     "name": "stdout",
     "output_type": "stream",
     "text": [
      "number of parameters: 0.20M\n",
      "model #params: 204544\n"
     ]
    }
   ],
   "source": [
    "torch.manual_seed(seed)\n",
    "torch.cuda.manual_seed_all(seed)\n",
    "\n",
    "# init model\n",
    "config = mm.ModelConfig(vocab_size=vocab_size, block_size=block_size,\n",
    "                   n_layer=n_layer, n_head=n_head,\n",
    "                   n_embd=n_embd, n_embd2=n_embd2)\n",
    "model = mm.Transformer(config)\n",
    "model.to(device)\n",
    "print(f\"model #params: {sum(p.numel() for p in model.parameters())}\")\n",
    "# if args.resume or args.sample_only: # note: if we sample-only then we also assume we are resuming\n",
    "#     print(\"resuming from existing model in the workdir\")\n",
    "#     model.load_state_dict(torch.load(os.path.join(args.work_dir, 'model.pt')))\n",
    "# if args.sample_only:\n",
    "#     print_samples(num=50)\n",
    "#     sys.exit()\n",
    "\n",
    "# init optimizer\n",
    "optimizer = torch.optim.AdamW(\n",
    "    model.parameters(), \n",
    "    lr=learning_rate, \n",
    "    weight_decay=weight_decay,\n",
    "    betas=(0.9, 0.99), \n",
    "    eps=1e-8\n",
    ")\n",
    "# init dataloader\n",
    "batch_loader = mm.InfiniteDataLoader(\n",
    "    train_dataset, \n",
    "    batch_size=batch_size, \n",
    "    pin_memory=True, \n",
    "    num_workers=num_workers\n",
    ")"
   ]
  },
  {
   "cell_type": "code",
   "execution_count": 104,
   "id": "702c957f-5e09-47a4-ac7c-23518d28d054",
   "metadata": {},
   "outputs": [],
   "source": [
    "# This could be run without for loop, step by step\n",
    "\n",
    "# get the next batch, ship to device, and unpack it to input and target\n",
    "batch = batch_loader.next()\n",
    "batch = [t.to(device) for t in batch]\n",
    "X, Y = batch\n",
    "\n",
    "#---*----# feed into the model - this is the entrypoint to Transformer\n",
    "idx = X #entrpoint argument to Transformer callable\n",
    "targets = Y #entrpoint argument to Transformer callable\n",
    "\n",
    "device = idx.device\n",
    "b, t = idx.size()\n",
    "assert t <= model.block_size, f\"Cannot forward sequence of length {t}, block size is only {model.block_size}\"\n",
    "pos = torch.arange(0, t, dtype=torch.long, device=device).unsqueeze(0) # shape (1, t)\n",
    "\n",
    "# forward the GPT model itmodel\n",
    "tok_emb = model.transformer.wte(idx) # token embeddings of shape (b, t, n_embd)\n",
    "pos_emb = model.transformer.wpe(pos) # position embeddings of shape (1, t, n_embd)\n",
    "x = tok_emb + pos_emb\n",
    "block = model.transformer.h[0] #WE TAKE ONLY ONE block!  #for block in model.transformer.h:\n",
    "\n",
    "# attention\n",
    "layer_normed1 = block.ln_1(x)\n",
    "B, T, C = layer_normed1.size() # batch size, sequence length, embedding dimensionality (n_embd)\n",
    "\n",
    "# calculate query, key, values for all heads in batch and move head forward to be the batch dim\n",
    "q, k ,v  = block.attn.c_attn(x).split(block.attn.n_embd, dim=2)        \n",
    "k = k.view(B, T, block.attn.n_head, C // block.attn.n_head).transpose(1, 2) # (B, nh, T, hs)\n",
    "q = q.view(B, T, block.attn.n_head, C // block.attn.n_head).transpose(1, 2) # (B, nh, T, hs)\n",
    "v = v.view(B, T, block.attn.n_head, C // block.attn.n_head).transpose(1, 2) # (B, nh, T, hs)        \n",
    "\n",
    "# causal self-attention; Self-attend: (B, nh, T, hs) x (B, nh, hs, T) -> (B, nh, T, T)\n",
    "att = (q @ k.transpose(-2, -1)) * (1.0 / math.sqrt(k.size(-1)))\n",
    "att = att.masked_fill(block.attn.bias[:,:,:T,:T] == 0, float('-inf'))\n",
    "att = F.softmax(att, dim=-1)\n",
    "y = att @ v # (B, nh, T, T) x (B, nh, T, hs) -> (B, nh, T, hs)\n",
    "y = y.transpose(1, 2).contiguous().view(B, T, C) # re-assemble all head outputs side by side\n",
    "\n",
    "# output projection\n",
    "y = block.attn.c_proj(y)        \n",
    "\n",
    "x = x + y #residual connection\n",
    "# mlpf\n",
    "layer_normed2 = block.ln_2(x)\n",
    "fully_connected = block.mlp.c_fc(layer_normed2)\n",
    "activated = block.mlp.act(fully_connected)\n",
    "projected = block.mlp.c_proj(activated)\n",
    "# mlpf = block.mlp.c_proj(block.mlp.act(block.mlp.c_fc((block.ln_2(x)))))\n",
    "x = x + projected #residual connection\n",
    "x = model.transformer.ln_f(x)\n",
    "logits = model.lm_head(x)\n",
    "\n",
    "# if we are given some desired targets also calculate the loss\n",
    "loss = None\n",
    "if targets is not None:\n",
    "    loss = F.cross_entropy(logits.view(-1, logits.size(-1)), targets.view(-1), ignore_index=-1)\n",
    "#---*----# feed into the model - the exitpoint is producing logits, loss\n",
    "\n",
    "# calculate the gradient, update the weights\n",
    "model.zero_grad(set_to_none=True)\n",
    "loss.backward()\n",
    "optimizer.step()"
   ]
  },
  {
   "cell_type": "code",
   "execution_count": 114,
   "id": "6d4efb43-d8f8-4173-a082-d6146f37b476",
   "metadata": {},
   "outputs": [],
   "source": [
    "import numpy as np"
   ]
  },
  {
   "cell_type": "code",
   "execution_count": 165,
   "id": "2ee65f8a-6bc5-4d2c-9ae7-64ad759470dd",
   "metadata": {},
   "outputs": [],
   "source": [
    "tz = -torch.ones((1,4))"
   ]
  },
  {
   "cell_type": "code",
   "execution_count": 167,
   "id": "56dd3437-a1b6-4254-b7f8-463836dc08d9",
   "metadata": {},
   "outputs": [],
   "source": [
    "tz[0,0] = -np.inf"
   ]
  },
  {
   "cell_type": "code",
   "execution_count": 158,
   "id": "92cae5ed-4279-457f-9d67-369b0399688b",
   "metadata": {},
   "outputs": [
    {
     "data": {
      "text/plain": [
       "tensor([[0.0000, 0.3300, 0.3300, 0.3300]])"
      ]
     },
     "execution_count": 158,
     "metadata": {},
     "output_type": "execute_result"
    }
   ],
   "source": [
    "torch.round(F.softmax(tz,dim=1), decimals=2)"
   ]
  },
  {
   "cell_type": "code",
   "execution_count": 159,
   "id": "c6473d5a-7910-458a-8d1d-5aa7f3afe796",
   "metadata": {},
   "outputs": [
    {
     "data": {
      "text/plain": [
       "tensor([[-inf, 1., 1., 1.]])"
      ]
     },
     "execution_count": 159,
     "metadata": {},
     "output_type": "execute_result"
    }
   ],
   "source": [
    "tz"
   ]
  },
  {
   "cell_type": "code",
   "execution_count": 161,
   "id": "af2c61d6-c8e5-47e2-a6d0-8fdd33b0be8c",
   "metadata": {},
   "outputs": [
    {
     "data": {
      "text/plain": [
       "1.0"
      ]
     },
     "execution_count": 161,
     "metadata": {},
     "output_type": "execute_result"
    }
   ],
   "source": [
    "np.exp(0)"
   ]
  },
  {
   "cell_type": "code",
   "execution_count": 168,
   "id": "6315902c-344a-44af-9743-aec931a44f80",
   "metadata": {},
   "outputs": [
    {
     "data": {
      "text/plain": [
       "tensor([[0.0000, 0.3700, 0.3700, 0.3700]])"
      ]
     },
     "execution_count": 168,
     "metadata": {},
     "output_type": "execute_result"
    }
   ],
   "source": [
    "torch.round(torch.exp(tz), decimals=2)"
   ]
  },
  {
   "cell_type": "code",
   "execution_count": null,
   "id": "8dda5818-41e7-44ea-a538-822aec74c76f",
   "metadata": {},
   "outputs": [],
   "source": []
  },
  {
   "cell_type": "code",
   "execution_count": null,
   "id": "917f1665-ba22-4c2d-9de7-9315c792649d",
   "metadata": {},
   "outputs": [],
   "source": []
  },
  {
   "cell_type": "code",
   "execution_count": null,
   "id": "526eb4fc-9909-437e-acb6-c1ed7ad9d6e8",
   "metadata": {},
   "outputs": [],
   "source": []
  },
  {
   "cell_type": "code",
   "execution_count": null,
   "id": "47983d85-d3be-4040-aa7c-d263681c68d2",
   "metadata": {},
   "outputs": [],
   "source": []
  }
 ],
 "metadata": {
  "kernelspec": {
   "display_name": "Python 3",
   "language": "python",
   "name": "python3"
  },
  "language_info": {
   "codemirror_mode": {
    "name": "ipython",
    "version": 3
   },
   "file_extension": ".py",
   "mimetype": "text/x-python",
   "name": "python",
   "nbconvert_exporter": "python",
   "pygments_lexer": "ipython3",
   "version": "3.8.10"
  }
 },
 "nbformat": 4,
 "nbformat_minor": 5
}
